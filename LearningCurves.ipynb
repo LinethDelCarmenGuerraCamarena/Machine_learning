{
  "cells": [
    {
      "cell_type": "markdown",
      "metadata": {
        "id": "EZ_5sfaamvHY"
      },
      "source": [
        "### **Trabajaremos con el archivo \"dataset_Facebook.csv\" que encuentras en la siguiente liga:**\n",
        "\n",
        "https://archive.ics.uci.edu/dataset/368/facebook+metrics\n",
        "\n",
        "### **Estos datos están asociados al siguiente artículo de Moro et.al., que deberás descargar para contestar varias de las preguntas de esta actividad:**\n",
        "\n",
        "https://www.semanticscholar.org/paper/Predicting-social-media-performance-metrics-and-of-Moro-Rita/dec55692590820754b53c916e29bb2b42c0e5104\n"
      ]
    },
    {
      "cell_type": "markdown",
      "metadata": {
        "id": "gOoOtosZ4bzA"
      },
      "source": [
        "### **NOTA: No modifiques el código, salvo en las partes que se te indica.**"
      ]
    },
    {
      "cell_type": "code",
      "execution_count": null,
      "metadata": {
        "colab": {
          "base_uri": "https://localhost:8080/"
        },
        "id": "9MZs9gKJ1fWZ",
        "outputId": "5b5842db-94a0-41a2-903a-1be97d469ecc"
      },
      "outputs": [
        {
          "output_type": "stream",
          "name": "stdout",
          "text": [
            "Mounted at /content/drive\n"
          ]
        }
      ],
      "source": [
        "# Puedes incluir más librerías, de ser necesario:\n",
        "import pandas as pd\n",
        "import matplotlib.pyplot as plt\n",
        "import numpy as np\n",
        "\n",
        "from sklearn.model_selection import train_test_split\n",
        "from sklearn.pipeline import Pipeline\n",
        "from sklearn.compose import ColumnTransformer\n",
        "from sklearn.impute import SimpleImputer\n",
        "from sklearn.preprocessing import OneHotEncoder\n",
        "from sklearn.preprocessing import OrdinalEncoder\n",
        "\n",
        "from sklearn.ensemble import RandomForestRegressor\n",
        "from xgboost import XGBRegressor\n",
        "from sklearn.neural_network import MLPRegressor\n",
        "from sklearn.svm import SVR\n",
        "\n",
        "from sklearn import metrics\n",
        "from sklearn.model_selection import RepeatedKFold\n",
        "from sklearn.model_selection import cross_validate\n",
        "from sklearn.metrics import mean_squared_error\n",
        "from sklearn.model_selection import learning_curve\n",
        "from sklearn.model_selection import learning_curve, RandomizedSearchCV\n",
        "from google.colab import drive\n",
        "import os\n",
        "\n",
        "# Google Colab Mount\n",
        "drive.mount('/content/drive')\n",
        "DIR = \"/content/drive/MyDrive/IA\"\n",
        "os.chdir(DIR)\n",
        "\n",
        "# Si se desean comentar algunos de los Warnings.\n",
        "import warnings\n",
        "warnings.filterwarnings('ignore')"
      ]
    },
    {
      "cell_type": "markdown",
      "metadata": {
        "id": "wLK5tyC0afDk"
      },
      "source": [
        "## **Ejercicio 1**\n"
      ]
    },
    {
      "cell_type": "markdown",
      "metadata": {
        "id": "VUaKQbUWxNYD"
      },
      "source": [
        "### **Describe en qué consiste el método llamado de \"Curvas de Aprendizaje\" (Learning Cures), para monitorear el subentrenamiento o sobrbeentrenamiento de un modelo.**\n",
        "\n",
        "#### NOTA: Puedes apoyarte en la documentación de sklearn:\n",
        "\n",
        "https://scikit-learn.org/stable/auto_examples/model_selection/plot_learning_curve.html#sphx-glr-auto-examples-model-selection-plot-learning-curve-py\n",
        "\n"
      ]
    },
    {
      "cell_type": "markdown",
      "metadata": {
        "id": "xBYkgkl5yDWn"
      },
      "source": [
        "El método de curvas de aprendizaje es una técnica que se utiliza para evaluar el rendimiento en los modelos de machine learning a medida que se aumenta la cantidad de datos en el entrenamiento.\n",
        "\n",
        "El método de curvas de aprendizaje para monitorear los siguientes patrones:\n",
        "* En el subrentrenamiento las curvas covergen un bajo rendimiento tanto el\n",
        "  conjunto de entrenamiento como en el\n",
        "   conjunto de prueba. Las curvas de aprendizaje en este modelo es simple para capturar la estructura de los datos.\n",
        "* En el sobrentrenamiento si existe una gran brecha entre las curvas de entrenamiento y prueba, tiene un alto rendimiento en el conjunto de entrenamiento pero un rendimiento menor en el conjunto de prueba.\n"
      ]
    },
    {
      "cell_type": "markdown",
      "metadata": {
        "id": "XmUZ46CwyEyu"
      },
      "source": [
        "## **Ejercicio 2**"
      ]
    },
    {
      "cell_type": "markdown",
      "metadata": {
        "id": "8pcpweI8aie8"
      },
      "source": [
        "### **De acuerdo al artículo de Moro et.al., contesta las siguientes preguntas:**\n",
        "\n",
        "*   **a. ¿Cuál es el objetivo del problema que se plantea en el artículo?**\n"
      ]
    },
    {
      "cell_type": "markdown",
      "metadata": {
        "id": "WIqvDWS4tFF2"
      },
      "source": [
        "El objetivo del artículo es desarrollar un modelo para predecir el rating de las publicaciones en Facebook de las diferentes marcas."
      ]
    },
    {
      "cell_type": "markdown",
      "metadata": {
        "id": "DbSEBatds8Vu"
      },
      "source": [
        "\n",
        "*   **b. Describe a continuación el significado de cada una de las 8 variables con la cuales trabajaremos, de acuerdo a la información de las Tablas 2 y 3 del artículo de Moro et.al.**"
      ]
    },
    {
      "cell_type": "markdown",
      "metadata": {
        "id": "tHWhAUezdc-E"
      },
      "source": [
        "#### **Variables de Entrada**\n",
        "\n",
        "**1.** **Page total likes:** número de personas que han dado \"me gusta\" a la página de la empresa. **Tipo de variable:** numérica.\n",
        "\n",
        "**2.** **Type:** tipo de contenido publicado (Enlace, Foto, Estado, Video). **Tipo de variable:** categórico.\n",
        "\n",
        "**3.** **Category**: caracterización manual del contenido: acción (ofertas especiales y concursos), producto (publicidad directa, contenido explícito de la marca) e inspiración (contenido relacionado con la marca no explícito). **Tipo de variable:** categórico.\n",
        "\n",
        "**4.** **Post month:** mes en que se publicó la publicación. **Tipo de variable:** numérica.\n",
        "\n",
        "**5.** **Post weekday:** día de la semana en que se publicó la publicación. **Tipo de variable:** númerica.\n",
        "\n",
        "**6.** **Post hour:** hora en que se publicó la publicación. **Tipo de variable:** numérica.\n",
        "\n",
        "\n",
        "**7.** **Paid:** si la empresa pagó a Facebook por publicidad. **Tipo de variable:** categórica (0: no, 1: sí)\n",
        "\n",
        "\n",
        "### **Variable de Salida**\n",
        "\n",
        "8. **Total Interactions:** la suma de \"likes\", \"comments\" y \"shares\" de la publicación. **Tipo de variable:** numérica."
      ]
    },
    {
      "cell_type": "markdown",
      "metadata": {
        "id": "N7aMmfvpWS2b"
      },
      "source": [
        "### **En esta actividad trabajarás solamente con el ajuste de modelos, por lo que la parte de procesamiento no la debes modificar. Solo haremos unos ajustes mínimos.**"
      ]
    },
    {
      "cell_type": "code",
      "execution_count": null,
      "metadata": {
        "colab": {
          "base_uri": "https://localhost:8080/"
        },
        "id": "N6m_XqcQnCHP",
        "outputId": "74f2d3cf-d2b0-42e9-d40a-b78b72a9e13a"
      },
      "outputs": [
        {
          "output_type": "stream",
          "name": "stdout",
          "text": [
            "Valores nulos en X antes de eliminar filas:\n",
            "Page total likes    0\n",
            "Type                0\n",
            "Category            0\n",
            "Post Month          0\n",
            "Post Weekday        0\n",
            "Post Hour           0\n",
            "Paid                1\n",
            "dtype: int64\n",
            "\n",
            "Valores nulos en y antes de eliminar filas:\n",
            "Lifetime Post Consumers    0\n",
            "dtype: int64\n",
            "Train: (299, 7) (299, 1)\n",
            "Val: (100, 7) (100, 1)\n",
            "Test: (100, 7) (100, 1)\n"
          ]
        }
      ],
      "source": [
        "# Cargamos los datos:\n",
        "data = pd.read_csv('dataset_Facebook.csv', sep=';', header='infer')\n",
        "\n",
        "# Separamos los datos de entrada y la variable de salida:\n",
        "X = data.iloc[:,0:7]   # Las primeras 7 columnas son las variables de entrada.\n",
        "y = data[['Lifetime Post Consumers']]   # Hay 12 variables de salida, pero solo trabajaremos con la\n",
        "                                        # que se consideró la más importante en el artículo de reporte.\n",
        "\n",
        "# Renombramos los niveles de \"Type\", para tener solo valores numéricos en el DataFrame:\n",
        "X['Type'] = X['Type'].map({'Photo':1, 'Status':2, 'Link':3, 'Video':4})\n",
        "\n",
        "# Encontrar valores nulos antes de eliminar filas\n",
        "print(\"Valores nulos en X antes de eliminar filas:\")\n",
        "print(X.isnull().sum())\n",
        "\n",
        "print(\"\\nValores nulos en y antes de eliminar filas:\")\n",
        "print(y.isnull().sum())\n",
        "\n",
        "# Eliminar filas con valores nulos\n",
        "X.dropna(axis=0, inplace=True)\n",
        "y = y.iloc[X.index]  # Ajustamos y en función de las filas eliminadas en X\n",
        "\n",
        "# Particionamos en Train, Validation y Test en 60-20-20:\n",
        "Xtrain, Xtv, ytrain, ytv = train_test_split(X, y, train_size=0.6, shuffle=True, random_state=5)\n",
        "Xval, Xtest, yval, ytest = train_test_split(Xtv, ytv, test_size=0.5, shuffle=True, random_state=7)\n",
        "\n",
        "\n",
        "print('Train:', Xtrain.shape, ytrain.shape)\n",
        "print('Val:', Xval.shape, yval.shape)\n",
        "print('Test:', Xtest.shape, ytest.shape)"
      ]
    },
    {
      "cell_type": "code",
      "execution_count": null,
      "metadata": {
        "colab": {
          "base_uri": "https://localhost:8080/",
          "height": 206
        },
        "id": "OQM5OUcsaXOE",
        "outputId": "1ee7d108-f3d8-47a0-9dcd-98af1c78209d"
      },
      "outputs": [
        {
          "output_type": "execute_result",
          "data": {
            "text/plain": [
              "     Page total likes  Type  Category  Post Month  Post Weekday  Post Hour  \\\n",
              "92             137059     1         3          11             1          3   \n",
              "45             138353     3         1          12             4          3   \n",
              "313            124940     1         3           6             7          3   \n",
              "46             138353     2         1          12             3         11   \n",
              "185            134879     1         1           9             1         10   \n",
              "\n",
              "     Paid  \n",
              "92    0.0  \n",
              "45    1.0  \n",
              "313   1.0  \n",
              "46    0.0  \n",
              "185   0.0  "
            ],
            "text/html": [
              "\n",
              "  <div id=\"df-39988aa2-2708-4ceb-894c-07d762f29bf1\" class=\"colab-df-container\">\n",
              "    <div>\n",
              "<style scoped>\n",
              "    .dataframe tbody tr th:only-of-type {\n",
              "        vertical-align: middle;\n",
              "    }\n",
              "\n",
              "    .dataframe tbody tr th {\n",
              "        vertical-align: top;\n",
              "    }\n",
              "\n",
              "    .dataframe thead th {\n",
              "        text-align: right;\n",
              "    }\n",
              "</style>\n",
              "<table border=\"1\" class=\"dataframe\">\n",
              "  <thead>\n",
              "    <tr style=\"text-align: right;\">\n",
              "      <th></th>\n",
              "      <th>Page total likes</th>\n",
              "      <th>Type</th>\n",
              "      <th>Category</th>\n",
              "      <th>Post Month</th>\n",
              "      <th>Post Weekday</th>\n",
              "      <th>Post Hour</th>\n",
              "      <th>Paid</th>\n",
              "    </tr>\n",
              "  </thead>\n",
              "  <tbody>\n",
              "    <tr>\n",
              "      <th>92</th>\n",
              "      <td>137059</td>\n",
              "      <td>1</td>\n",
              "      <td>3</td>\n",
              "      <td>11</td>\n",
              "      <td>1</td>\n",
              "      <td>3</td>\n",
              "      <td>0.0</td>\n",
              "    </tr>\n",
              "    <tr>\n",
              "      <th>45</th>\n",
              "      <td>138353</td>\n",
              "      <td>3</td>\n",
              "      <td>1</td>\n",
              "      <td>12</td>\n",
              "      <td>4</td>\n",
              "      <td>3</td>\n",
              "      <td>1.0</td>\n",
              "    </tr>\n",
              "    <tr>\n",
              "      <th>313</th>\n",
              "      <td>124940</td>\n",
              "      <td>1</td>\n",
              "      <td>3</td>\n",
              "      <td>6</td>\n",
              "      <td>7</td>\n",
              "      <td>3</td>\n",
              "      <td>1.0</td>\n",
              "    </tr>\n",
              "    <tr>\n",
              "      <th>46</th>\n",
              "      <td>138353</td>\n",
              "      <td>2</td>\n",
              "      <td>1</td>\n",
              "      <td>12</td>\n",
              "      <td>3</td>\n",
              "      <td>11</td>\n",
              "      <td>0.0</td>\n",
              "    </tr>\n",
              "    <tr>\n",
              "      <th>185</th>\n",
              "      <td>134879</td>\n",
              "      <td>1</td>\n",
              "      <td>1</td>\n",
              "      <td>9</td>\n",
              "      <td>1</td>\n",
              "      <td>10</td>\n",
              "      <td>0.0</td>\n",
              "    </tr>\n",
              "  </tbody>\n",
              "</table>\n",
              "</div>\n",
              "    <div class=\"colab-df-buttons\">\n",
              "\n",
              "  <div class=\"colab-df-container\">\n",
              "    <button class=\"colab-df-convert\" onclick=\"convertToInteractive('df-39988aa2-2708-4ceb-894c-07d762f29bf1')\"\n",
              "            title=\"Convert this dataframe to an interactive table.\"\n",
              "            style=\"display:none;\">\n",
              "\n",
              "  <svg xmlns=\"http://www.w3.org/2000/svg\" height=\"24px\" viewBox=\"0 -960 960 960\">\n",
              "    <path d=\"M120-120v-720h720v720H120Zm60-500h600v-160H180v160Zm220 220h160v-160H400v160Zm0 220h160v-160H400v160ZM180-400h160v-160H180v160Zm440 0h160v-160H620v160ZM180-180h160v-160H180v160Zm440 0h160v-160H620v160Z\"/>\n",
              "  </svg>\n",
              "    </button>\n",
              "\n",
              "  <style>\n",
              "    .colab-df-container {\n",
              "      display:flex;\n",
              "      gap: 12px;\n",
              "    }\n",
              "\n",
              "    .colab-df-convert {\n",
              "      background-color: #E8F0FE;\n",
              "      border: none;\n",
              "      border-radius: 50%;\n",
              "      cursor: pointer;\n",
              "      display: none;\n",
              "      fill: #1967D2;\n",
              "      height: 32px;\n",
              "      padding: 0 0 0 0;\n",
              "      width: 32px;\n",
              "    }\n",
              "\n",
              "    .colab-df-convert:hover {\n",
              "      background-color: #E2EBFA;\n",
              "      box-shadow: 0px 1px 2px rgba(60, 64, 67, 0.3), 0px 1px 3px 1px rgba(60, 64, 67, 0.15);\n",
              "      fill: #174EA6;\n",
              "    }\n",
              "\n",
              "    .colab-df-buttons div {\n",
              "      margin-bottom: 4px;\n",
              "    }\n",
              "\n",
              "    [theme=dark] .colab-df-convert {\n",
              "      background-color: #3B4455;\n",
              "      fill: #D2E3FC;\n",
              "    }\n",
              "\n",
              "    [theme=dark] .colab-df-convert:hover {\n",
              "      background-color: #434B5C;\n",
              "      box-shadow: 0px 1px 3px 1px rgba(0, 0, 0, 0.15);\n",
              "      filter: drop-shadow(0px 1px 2px rgba(0, 0, 0, 0.3));\n",
              "      fill: #FFFFFF;\n",
              "    }\n",
              "  </style>\n",
              "\n",
              "    <script>\n",
              "      const buttonEl =\n",
              "        document.querySelector('#df-39988aa2-2708-4ceb-894c-07d762f29bf1 button.colab-df-convert');\n",
              "      buttonEl.style.display =\n",
              "        google.colab.kernel.accessAllowed ? 'block' : 'none';\n",
              "\n",
              "      async function convertToInteractive(key) {\n",
              "        const element = document.querySelector('#df-39988aa2-2708-4ceb-894c-07d762f29bf1');\n",
              "        const dataTable =\n",
              "          await google.colab.kernel.invokeFunction('convertToInteractive',\n",
              "                                                    [key], {});\n",
              "        if (!dataTable) return;\n",
              "\n",
              "        const docLinkHtml = 'Like what you see? Visit the ' +\n",
              "          '<a target=\"_blank\" href=https://colab.research.google.com/notebooks/data_table.ipynb>data table notebook</a>'\n",
              "          + ' to learn more about interactive tables.';\n",
              "        element.innerHTML = '';\n",
              "        dataTable['output_type'] = 'display_data';\n",
              "        await google.colab.output.renderOutput(dataTable, element);\n",
              "        const docLink = document.createElement('div');\n",
              "        docLink.innerHTML = docLinkHtml;\n",
              "        element.appendChild(docLink);\n",
              "      }\n",
              "    </script>\n",
              "  </div>\n",
              "\n",
              "\n",
              "<div id=\"df-9067e13a-c998-45e2-a83b-fe2e4859375a\">\n",
              "  <button class=\"colab-df-quickchart\" onclick=\"quickchart('df-9067e13a-c998-45e2-a83b-fe2e4859375a')\"\n",
              "            title=\"Suggest charts\"\n",
              "            style=\"display:none;\">\n",
              "\n",
              "<svg xmlns=\"http://www.w3.org/2000/svg\" height=\"24px\"viewBox=\"0 0 24 24\"\n",
              "     width=\"24px\">\n",
              "    <g>\n",
              "        <path d=\"M19 3H5c-1.1 0-2 .9-2 2v14c0 1.1.9 2 2 2h14c1.1 0 2-.9 2-2V5c0-1.1-.9-2-2-2zM9 17H7v-7h2v7zm4 0h-2V7h2v10zm4 0h-2v-4h2v4z\"/>\n",
              "    </g>\n",
              "</svg>\n",
              "  </button>\n",
              "\n",
              "<style>\n",
              "  .colab-df-quickchart {\n",
              "      --bg-color: #E8F0FE;\n",
              "      --fill-color: #1967D2;\n",
              "      --hover-bg-color: #E2EBFA;\n",
              "      --hover-fill-color: #174EA6;\n",
              "      --disabled-fill-color: #AAA;\n",
              "      --disabled-bg-color: #DDD;\n",
              "  }\n",
              "\n",
              "  [theme=dark] .colab-df-quickchart {\n",
              "      --bg-color: #3B4455;\n",
              "      --fill-color: #D2E3FC;\n",
              "      --hover-bg-color: #434B5C;\n",
              "      --hover-fill-color: #FFFFFF;\n",
              "      --disabled-bg-color: #3B4455;\n",
              "      --disabled-fill-color: #666;\n",
              "  }\n",
              "\n",
              "  .colab-df-quickchart {\n",
              "    background-color: var(--bg-color);\n",
              "    border: none;\n",
              "    border-radius: 50%;\n",
              "    cursor: pointer;\n",
              "    display: none;\n",
              "    fill: var(--fill-color);\n",
              "    height: 32px;\n",
              "    padding: 0;\n",
              "    width: 32px;\n",
              "  }\n",
              "\n",
              "  .colab-df-quickchart:hover {\n",
              "    background-color: var(--hover-bg-color);\n",
              "    box-shadow: 0 1px 2px rgba(60, 64, 67, 0.3), 0 1px 3px 1px rgba(60, 64, 67, 0.15);\n",
              "    fill: var(--button-hover-fill-color);\n",
              "  }\n",
              "\n",
              "  .colab-df-quickchart-complete:disabled,\n",
              "  .colab-df-quickchart-complete:disabled:hover {\n",
              "    background-color: var(--disabled-bg-color);\n",
              "    fill: var(--disabled-fill-color);\n",
              "    box-shadow: none;\n",
              "  }\n",
              "\n",
              "  .colab-df-spinner {\n",
              "    border: 2px solid var(--fill-color);\n",
              "    border-color: transparent;\n",
              "    border-bottom-color: var(--fill-color);\n",
              "    animation:\n",
              "      spin 1s steps(1) infinite;\n",
              "  }\n",
              "\n",
              "  @keyframes spin {\n",
              "    0% {\n",
              "      border-color: transparent;\n",
              "      border-bottom-color: var(--fill-color);\n",
              "      border-left-color: var(--fill-color);\n",
              "    }\n",
              "    20% {\n",
              "      border-color: transparent;\n",
              "      border-left-color: var(--fill-color);\n",
              "      border-top-color: var(--fill-color);\n",
              "    }\n",
              "    30% {\n",
              "      border-color: transparent;\n",
              "      border-left-color: var(--fill-color);\n",
              "      border-top-color: var(--fill-color);\n",
              "      border-right-color: var(--fill-color);\n",
              "    }\n",
              "    40% {\n",
              "      border-color: transparent;\n",
              "      border-right-color: var(--fill-color);\n",
              "      border-top-color: var(--fill-color);\n",
              "    }\n",
              "    60% {\n",
              "      border-color: transparent;\n",
              "      border-right-color: var(--fill-color);\n",
              "    }\n",
              "    80% {\n",
              "      border-color: transparent;\n",
              "      border-right-color: var(--fill-color);\n",
              "      border-bottom-color: var(--fill-color);\n",
              "    }\n",
              "    90% {\n",
              "      border-color: transparent;\n",
              "      border-bottom-color: var(--fill-color);\n",
              "    }\n",
              "  }\n",
              "</style>\n",
              "\n",
              "  <script>\n",
              "    async function quickchart(key) {\n",
              "      const quickchartButtonEl =\n",
              "        document.querySelector('#' + key + ' button');\n",
              "      quickchartButtonEl.disabled = true;  // To prevent multiple clicks.\n",
              "      quickchartButtonEl.classList.add('colab-df-spinner');\n",
              "      try {\n",
              "        const charts = await google.colab.kernel.invokeFunction(\n",
              "            'suggestCharts', [key], {});\n",
              "      } catch (error) {\n",
              "        console.error('Error during call to suggestCharts:', error);\n",
              "      }\n",
              "      quickchartButtonEl.classList.remove('colab-df-spinner');\n",
              "      quickchartButtonEl.classList.add('colab-df-quickchart-complete');\n",
              "    }\n",
              "    (() => {\n",
              "      let quickchartButtonEl =\n",
              "        document.querySelector('#df-9067e13a-c998-45e2-a83b-fe2e4859375a button');\n",
              "      quickchartButtonEl.style.display =\n",
              "        google.colab.kernel.accessAllowed ? 'block' : 'none';\n",
              "    })();\n",
              "  </script>\n",
              "</div>\n",
              "\n",
              "    </div>\n",
              "  </div>\n"
            ],
            "application/vnd.google.colaboratory.intrinsic+json": {
              "type": "dataframe",
              "variable_name": "Xtrain",
              "summary": "{\n  \"name\": \"Xtrain\",\n  \"rows\": 299,\n  \"fields\": [\n    {\n      \"column\": \"Page total likes\",\n      \"properties\": {\n        \"dtype\": \"number\",\n        \"std\": 16199,\n        \"min\": 81370,\n        \"max\": 139441,\n        \"num_unique_values\": 76,\n        \"samples\": [\n          125612,\n          131956,\n          86909\n        ],\n        \"semantic_type\": \"\",\n        \"description\": \"\"\n      }\n    },\n    {\n      \"column\": \"Type\",\n      \"properties\": {\n        \"dtype\": \"number\",\n        \"std\": 0,\n        \"min\": 1,\n        \"max\": 4,\n        \"num_unique_values\": 4,\n        \"samples\": [\n          3,\n          4,\n          1\n        ],\n        \"semantic_type\": \"\",\n        \"description\": \"\"\n      }\n    },\n    {\n      \"column\": \"Category\",\n      \"properties\": {\n        \"dtype\": \"number\",\n        \"std\": 0,\n        \"min\": 1,\n        \"max\": 3,\n        \"num_unique_values\": 3,\n        \"samples\": [\n          3,\n          1,\n          2\n        ],\n        \"semantic_type\": \"\",\n        \"description\": \"\"\n      }\n    },\n    {\n      \"column\": \"Post Month\",\n      \"properties\": {\n        \"dtype\": \"number\",\n        \"std\": 3,\n        \"min\": 1,\n        \"max\": 12,\n        \"num_unique_values\": 12,\n        \"samples\": [\n          10,\n          4,\n          11\n        ],\n        \"semantic_type\": \"\",\n        \"description\": \"\"\n      }\n    },\n    {\n      \"column\": \"Post Weekday\",\n      \"properties\": {\n        \"dtype\": \"number\",\n        \"std\": 1,\n        \"min\": 1,\n        \"max\": 7,\n        \"num_unique_values\": 7,\n        \"samples\": [\n          1,\n          4,\n          6\n        ],\n        \"semantic_type\": \"\",\n        \"description\": \"\"\n      }\n    },\n    {\n      \"column\": \"Post Hour\",\n      \"properties\": {\n        \"dtype\": \"number\",\n        \"std\": 4,\n        \"min\": 1,\n        \"max\": 22,\n        \"num_unique_values\": 20,\n        \"samples\": [\n          3,\n          20,\n          18\n        ],\n        \"semantic_type\": \"\",\n        \"description\": \"\"\n      }\n    },\n    {\n      \"column\": \"Paid\",\n      \"properties\": {\n        \"dtype\": \"number\",\n        \"std\": 0.46231220635916975,\n        \"min\": 0.0,\n        \"max\": 1.0,\n        \"num_unique_values\": 2,\n        \"samples\": [\n          1.0,\n          0.0\n        ],\n        \"semantic_type\": \"\",\n        \"description\": \"\"\n      }\n    }\n  ]\n}"
            }
          },
          "metadata": {},
          "execution_count": 3
        }
      ],
      "source": [
        "Xtrain.head() # Nuestros datos de entrada"
      ]
    },
    {
      "cell_type": "code",
      "execution_count": null,
      "metadata": {
        "colab": {
          "base_uri": "https://localhost:8080/",
          "height": 269
        },
        "id": "QGJTjTrSk9qU",
        "outputId": "6a090086-e6b4-4c15-f6db-8d58a433f5b5"
      },
      "outputs": [
        {
          "output_type": "execute_result",
          "data": {
            "text/plain": [
              "                  count           mean           std      min       25%  \\\n",
              "Page total likes  299.0  123583.826087  16199.001854  81370.0  113028.0   \n",
              "Type              299.0       1.214047      0.574342      1.0       1.0   \n",
              "Category          299.0       1.916388      0.857086      1.0       1.0   \n",
              "Post Month        299.0       7.113712      3.314668      1.0       4.0   \n",
              "Post Weekday      299.0       4.193980      1.992224      1.0       3.0   \n",
              "Post Hour         299.0       7.702341      4.325090      1.0       3.0   \n",
              "Paid              299.0       0.307692      0.462312      0.0       0.0   \n",
              "\n",
              "                       50%       75%       max  \n",
              "Page total likes  130791.0  136393.0  139441.0  \n",
              "Type                   1.0       1.0       4.0  \n",
              "Category               2.0       3.0       3.0  \n",
              "Post Month             7.0      10.0      12.0  \n",
              "Post Weekday           4.0       6.0       7.0  \n",
              "Post Hour              9.0      11.0      22.0  \n",
              "Paid                   0.0       1.0       1.0  "
            ],
            "text/html": [
              "\n",
              "  <div id=\"df-cc94a879-4cf1-419c-abdd-33a0bc521f62\" class=\"colab-df-container\">\n",
              "    <div>\n",
              "<style scoped>\n",
              "    .dataframe tbody tr th:only-of-type {\n",
              "        vertical-align: middle;\n",
              "    }\n",
              "\n",
              "    .dataframe tbody tr th {\n",
              "        vertical-align: top;\n",
              "    }\n",
              "\n",
              "    .dataframe thead th {\n",
              "        text-align: right;\n",
              "    }\n",
              "</style>\n",
              "<table border=\"1\" class=\"dataframe\">\n",
              "  <thead>\n",
              "    <tr style=\"text-align: right;\">\n",
              "      <th></th>\n",
              "      <th>count</th>\n",
              "      <th>mean</th>\n",
              "      <th>std</th>\n",
              "      <th>min</th>\n",
              "      <th>25%</th>\n",
              "      <th>50%</th>\n",
              "      <th>75%</th>\n",
              "      <th>max</th>\n",
              "    </tr>\n",
              "  </thead>\n",
              "  <tbody>\n",
              "    <tr>\n",
              "      <th>Page total likes</th>\n",
              "      <td>299.0</td>\n",
              "      <td>123583.826087</td>\n",
              "      <td>16199.001854</td>\n",
              "      <td>81370.0</td>\n",
              "      <td>113028.0</td>\n",
              "      <td>130791.0</td>\n",
              "      <td>136393.0</td>\n",
              "      <td>139441.0</td>\n",
              "    </tr>\n",
              "    <tr>\n",
              "      <th>Type</th>\n",
              "      <td>299.0</td>\n",
              "      <td>1.214047</td>\n",
              "      <td>0.574342</td>\n",
              "      <td>1.0</td>\n",
              "      <td>1.0</td>\n",
              "      <td>1.0</td>\n",
              "      <td>1.0</td>\n",
              "      <td>4.0</td>\n",
              "    </tr>\n",
              "    <tr>\n",
              "      <th>Category</th>\n",
              "      <td>299.0</td>\n",
              "      <td>1.916388</td>\n",
              "      <td>0.857086</td>\n",
              "      <td>1.0</td>\n",
              "      <td>1.0</td>\n",
              "      <td>2.0</td>\n",
              "      <td>3.0</td>\n",
              "      <td>3.0</td>\n",
              "    </tr>\n",
              "    <tr>\n",
              "      <th>Post Month</th>\n",
              "      <td>299.0</td>\n",
              "      <td>7.113712</td>\n",
              "      <td>3.314668</td>\n",
              "      <td>1.0</td>\n",
              "      <td>4.0</td>\n",
              "      <td>7.0</td>\n",
              "      <td>10.0</td>\n",
              "      <td>12.0</td>\n",
              "    </tr>\n",
              "    <tr>\n",
              "      <th>Post Weekday</th>\n",
              "      <td>299.0</td>\n",
              "      <td>4.193980</td>\n",
              "      <td>1.992224</td>\n",
              "      <td>1.0</td>\n",
              "      <td>3.0</td>\n",
              "      <td>4.0</td>\n",
              "      <td>6.0</td>\n",
              "      <td>7.0</td>\n",
              "    </tr>\n",
              "    <tr>\n",
              "      <th>Post Hour</th>\n",
              "      <td>299.0</td>\n",
              "      <td>7.702341</td>\n",
              "      <td>4.325090</td>\n",
              "      <td>1.0</td>\n",
              "      <td>3.0</td>\n",
              "      <td>9.0</td>\n",
              "      <td>11.0</td>\n",
              "      <td>22.0</td>\n",
              "    </tr>\n",
              "    <tr>\n",
              "      <th>Paid</th>\n",
              "      <td>299.0</td>\n",
              "      <td>0.307692</td>\n",
              "      <td>0.462312</td>\n",
              "      <td>0.0</td>\n",
              "      <td>0.0</td>\n",
              "      <td>0.0</td>\n",
              "      <td>1.0</td>\n",
              "      <td>1.0</td>\n",
              "    </tr>\n",
              "  </tbody>\n",
              "</table>\n",
              "</div>\n",
              "    <div class=\"colab-df-buttons\">\n",
              "\n",
              "  <div class=\"colab-df-container\">\n",
              "    <button class=\"colab-df-convert\" onclick=\"convertToInteractive('df-cc94a879-4cf1-419c-abdd-33a0bc521f62')\"\n",
              "            title=\"Convert this dataframe to an interactive table.\"\n",
              "            style=\"display:none;\">\n",
              "\n",
              "  <svg xmlns=\"http://www.w3.org/2000/svg\" height=\"24px\" viewBox=\"0 -960 960 960\">\n",
              "    <path d=\"M120-120v-720h720v720H120Zm60-500h600v-160H180v160Zm220 220h160v-160H400v160Zm0 220h160v-160H400v160ZM180-400h160v-160H180v160Zm440 0h160v-160H620v160ZM180-180h160v-160H180v160Zm440 0h160v-160H620v160Z\"/>\n",
              "  </svg>\n",
              "    </button>\n",
              "\n",
              "  <style>\n",
              "    .colab-df-container {\n",
              "      display:flex;\n",
              "      gap: 12px;\n",
              "    }\n",
              "\n",
              "    .colab-df-convert {\n",
              "      background-color: #E8F0FE;\n",
              "      border: none;\n",
              "      border-radius: 50%;\n",
              "      cursor: pointer;\n",
              "      display: none;\n",
              "      fill: #1967D2;\n",
              "      height: 32px;\n",
              "      padding: 0 0 0 0;\n",
              "      width: 32px;\n",
              "    }\n",
              "\n",
              "    .colab-df-convert:hover {\n",
              "      background-color: #E2EBFA;\n",
              "      box-shadow: 0px 1px 2px rgba(60, 64, 67, 0.3), 0px 1px 3px 1px rgba(60, 64, 67, 0.15);\n",
              "      fill: #174EA6;\n",
              "    }\n",
              "\n",
              "    .colab-df-buttons div {\n",
              "      margin-bottom: 4px;\n",
              "    }\n",
              "\n",
              "    [theme=dark] .colab-df-convert {\n",
              "      background-color: #3B4455;\n",
              "      fill: #D2E3FC;\n",
              "    }\n",
              "\n",
              "    [theme=dark] .colab-df-convert:hover {\n",
              "      background-color: #434B5C;\n",
              "      box-shadow: 0px 1px 3px 1px rgba(0, 0, 0, 0.15);\n",
              "      filter: drop-shadow(0px 1px 2px rgba(0, 0, 0, 0.3));\n",
              "      fill: #FFFFFF;\n",
              "    }\n",
              "  </style>\n",
              "\n",
              "    <script>\n",
              "      const buttonEl =\n",
              "        document.querySelector('#df-cc94a879-4cf1-419c-abdd-33a0bc521f62 button.colab-df-convert');\n",
              "      buttonEl.style.display =\n",
              "        google.colab.kernel.accessAllowed ? 'block' : 'none';\n",
              "\n",
              "      async function convertToInteractive(key) {\n",
              "        const element = document.querySelector('#df-cc94a879-4cf1-419c-abdd-33a0bc521f62');\n",
              "        const dataTable =\n",
              "          await google.colab.kernel.invokeFunction('convertToInteractive',\n",
              "                                                    [key], {});\n",
              "        if (!dataTable) return;\n",
              "\n",
              "        const docLinkHtml = 'Like what you see? Visit the ' +\n",
              "          '<a target=\"_blank\" href=https://colab.research.google.com/notebooks/data_table.ipynb>data table notebook</a>'\n",
              "          + ' to learn more about interactive tables.';\n",
              "        element.innerHTML = '';\n",
              "        dataTable['output_type'] = 'display_data';\n",
              "        await google.colab.output.renderOutput(dataTable, element);\n",
              "        const docLink = document.createElement('div');\n",
              "        docLink.innerHTML = docLinkHtml;\n",
              "        element.appendChild(docLink);\n",
              "      }\n",
              "    </script>\n",
              "  </div>\n",
              "\n",
              "\n",
              "<div id=\"df-e15b5878-7885-401d-8ff9-ec459027bab0\">\n",
              "  <button class=\"colab-df-quickchart\" onclick=\"quickchart('df-e15b5878-7885-401d-8ff9-ec459027bab0')\"\n",
              "            title=\"Suggest charts\"\n",
              "            style=\"display:none;\">\n",
              "\n",
              "<svg xmlns=\"http://www.w3.org/2000/svg\" height=\"24px\"viewBox=\"0 0 24 24\"\n",
              "     width=\"24px\">\n",
              "    <g>\n",
              "        <path d=\"M19 3H5c-1.1 0-2 .9-2 2v14c0 1.1.9 2 2 2h14c1.1 0 2-.9 2-2V5c0-1.1-.9-2-2-2zM9 17H7v-7h2v7zm4 0h-2V7h2v10zm4 0h-2v-4h2v4z\"/>\n",
              "    </g>\n",
              "</svg>\n",
              "  </button>\n",
              "\n",
              "<style>\n",
              "  .colab-df-quickchart {\n",
              "      --bg-color: #E8F0FE;\n",
              "      --fill-color: #1967D2;\n",
              "      --hover-bg-color: #E2EBFA;\n",
              "      --hover-fill-color: #174EA6;\n",
              "      --disabled-fill-color: #AAA;\n",
              "      --disabled-bg-color: #DDD;\n",
              "  }\n",
              "\n",
              "  [theme=dark] .colab-df-quickchart {\n",
              "      --bg-color: #3B4455;\n",
              "      --fill-color: #D2E3FC;\n",
              "      --hover-bg-color: #434B5C;\n",
              "      --hover-fill-color: #FFFFFF;\n",
              "      --disabled-bg-color: #3B4455;\n",
              "      --disabled-fill-color: #666;\n",
              "  }\n",
              "\n",
              "  .colab-df-quickchart {\n",
              "    background-color: var(--bg-color);\n",
              "    border: none;\n",
              "    border-radius: 50%;\n",
              "    cursor: pointer;\n",
              "    display: none;\n",
              "    fill: var(--fill-color);\n",
              "    height: 32px;\n",
              "    padding: 0;\n",
              "    width: 32px;\n",
              "  }\n",
              "\n",
              "  .colab-df-quickchart:hover {\n",
              "    background-color: var(--hover-bg-color);\n",
              "    box-shadow: 0 1px 2px rgba(60, 64, 67, 0.3), 0 1px 3px 1px rgba(60, 64, 67, 0.15);\n",
              "    fill: var(--button-hover-fill-color);\n",
              "  }\n",
              "\n",
              "  .colab-df-quickchart-complete:disabled,\n",
              "  .colab-df-quickchart-complete:disabled:hover {\n",
              "    background-color: var(--disabled-bg-color);\n",
              "    fill: var(--disabled-fill-color);\n",
              "    box-shadow: none;\n",
              "  }\n",
              "\n",
              "  .colab-df-spinner {\n",
              "    border: 2px solid var(--fill-color);\n",
              "    border-color: transparent;\n",
              "    border-bottom-color: var(--fill-color);\n",
              "    animation:\n",
              "      spin 1s steps(1) infinite;\n",
              "  }\n",
              "\n",
              "  @keyframes spin {\n",
              "    0% {\n",
              "      border-color: transparent;\n",
              "      border-bottom-color: var(--fill-color);\n",
              "      border-left-color: var(--fill-color);\n",
              "    }\n",
              "    20% {\n",
              "      border-color: transparent;\n",
              "      border-left-color: var(--fill-color);\n",
              "      border-top-color: var(--fill-color);\n",
              "    }\n",
              "    30% {\n",
              "      border-color: transparent;\n",
              "      border-left-color: var(--fill-color);\n",
              "      border-top-color: var(--fill-color);\n",
              "      border-right-color: var(--fill-color);\n",
              "    }\n",
              "    40% {\n",
              "      border-color: transparent;\n",
              "      border-right-color: var(--fill-color);\n",
              "      border-top-color: var(--fill-color);\n",
              "    }\n",
              "    60% {\n",
              "      border-color: transparent;\n",
              "      border-right-color: var(--fill-color);\n",
              "    }\n",
              "    80% {\n",
              "      border-color: transparent;\n",
              "      border-right-color: var(--fill-color);\n",
              "      border-bottom-color: var(--fill-color);\n",
              "    }\n",
              "    90% {\n",
              "      border-color: transparent;\n",
              "      border-bottom-color: var(--fill-color);\n",
              "    }\n",
              "  }\n",
              "</style>\n",
              "\n",
              "  <script>\n",
              "    async function quickchart(key) {\n",
              "      const quickchartButtonEl =\n",
              "        document.querySelector('#' + key + ' button');\n",
              "      quickchartButtonEl.disabled = true;  // To prevent multiple clicks.\n",
              "      quickchartButtonEl.classList.add('colab-df-spinner');\n",
              "      try {\n",
              "        const charts = await google.colab.kernel.invokeFunction(\n",
              "            'suggestCharts', [key], {});\n",
              "      } catch (error) {\n",
              "        console.error('Error during call to suggestCharts:', error);\n",
              "      }\n",
              "      quickchartButtonEl.classList.remove('colab-df-spinner');\n",
              "      quickchartButtonEl.classList.add('colab-df-quickchart-complete');\n",
              "    }\n",
              "    (() => {\n",
              "      let quickchartButtonEl =\n",
              "        document.querySelector('#df-e15b5878-7885-401d-8ff9-ec459027bab0 button');\n",
              "      quickchartButtonEl.style.display =\n",
              "        google.colab.kernel.accessAllowed ? 'block' : 'none';\n",
              "    })();\n",
              "  </script>\n",
              "</div>\n",
              "\n",
              "    </div>\n",
              "  </div>\n"
            ],
            "application/vnd.google.colaboratory.intrinsic+json": {
              "type": "dataframe",
              "summary": "{\n  \"name\": \"Xtrain\",\n  \"rows\": 7,\n  \"fields\": [\n    {\n      \"column\": \"count\",\n      \"properties\": {\n        \"dtype\": \"number\",\n        \"std\": 0.0,\n        \"min\": 299.0,\n        \"max\": 299.0,\n        \"num_unique_values\": 1,\n        \"samples\": [\n          299.0\n        ],\n        \"semantic_type\": \"\",\n        \"description\": \"\"\n      }\n    },\n    {\n      \"column\": \"mean\",\n      \"properties\": {\n        \"dtype\": \"number\",\n        \"std\": 46708.8816852454,\n        \"min\": 0.3076923076923077,\n        \"max\": 123583.82608695653,\n        \"num_unique_values\": 7,\n        \"samples\": [\n          123583.82608695653\n        ],\n        \"semantic_type\": \"\",\n        \"description\": \"\"\n      }\n    },\n    {\n      \"column\": \"std\",\n      \"properties\": {\n        \"dtype\": \"number\",\n        \"std\": 6121.921320855458,\n        \"min\": 0.46231220635916975,\n        \"max\": 16199.001853722379,\n        \"num_unique_values\": 7,\n        \"samples\": [\n          16199.001853722379\n        ],\n        \"semantic_type\": \"\",\n        \"description\": \"\"\n      }\n    },\n    {\n      \"column\": \"min\",\n      \"properties\": {\n        \"dtype\": \"number\",\n        \"std\": 30754.65420062466,\n        \"min\": 0.0,\n        \"max\": 81370.0,\n        \"num_unique_values\": 3,\n        \"samples\": [\n          81370.0\n        ],\n        \"semantic_type\": \"\",\n        \"description\": \"\"\n      }\n    },\n    {\n      \"column\": \"25%\",\n      \"properties\": {\n        \"dtype\": \"number\",\n        \"std\": 42719.81254974926,\n        \"min\": 0.0,\n        \"max\": 113028.0,\n        \"num_unique_values\": 5,\n        \"samples\": [\n          1.0\n        ],\n        \"semantic_type\": \"\",\n        \"description\": \"\"\n      }\n    },\n    {\n      \"column\": \"50%\",\n      \"properties\": {\n        \"dtype\": \"number\",\n        \"std\": 49432.90263146024,\n        \"min\": 0.0,\n        \"max\": 130791.0,\n        \"num_unique_values\": 7,\n        \"samples\": [\n          130791.0\n        ],\n        \"semantic_type\": \"\",\n        \"description\": \"\"\n      }\n    },\n    {\n      \"column\": \"75%\",\n      \"properties\": {\n        \"dtype\": \"number\",\n        \"std\": 51549.6927139703,\n        \"min\": 1.0,\n        \"max\": 136393.0,\n        \"num_unique_values\": 6,\n        \"samples\": [\n          136393.0\n        ],\n        \"semantic_type\": \"\",\n        \"description\": \"\"\n      }\n    },\n    {\n      \"column\": \"max\",\n      \"properties\": {\n        \"dtype\": \"number\",\n        \"std\": 52700.65784987436,\n        \"min\": 1.0,\n        \"max\": 139441.0,\n        \"num_unique_values\": 7,\n        \"samples\": [\n          139441.0\n        ],\n        \"semantic_type\": \"\",\n        \"description\": \"\"\n      }\n    }\n  ]\n}"
            }
          },
          "metadata": {},
          "execution_count": 4
        }
      ],
      "source": [
        "Xtrain.describe().T   # veamos alguna descripción como datos numéricos"
      ]
    },
    {
      "cell_type": "code",
      "execution_count": null,
      "metadata": {
        "colab": {
          "base_uri": "https://localhost:8080/",
          "height": 80
        },
        "id": "-T2adW4ElGQN",
        "outputId": "4bdc457f-6049-4e3b-b71d-f30b331498b4"
      },
      "outputs": [
        {
          "output_type": "execute_result",
          "data": {
            "text/plain": [
              "                         count        mean          std  min    25%    50%  \\\n",
              "Lifetime Post Consumers  299.0  822.190635  1006.404471  9.0  322.5  548.0   \n",
              "\n",
              "                           75%      max  \n",
              "Lifetime Post Consumers  992.0  11328.0  "
            ],
            "text/html": [
              "\n",
              "  <div id=\"df-b9468209-0e8c-44b5-b5c7-1fd722f96ce6\" class=\"colab-df-container\">\n",
              "    <div>\n",
              "<style scoped>\n",
              "    .dataframe tbody tr th:only-of-type {\n",
              "        vertical-align: middle;\n",
              "    }\n",
              "\n",
              "    .dataframe tbody tr th {\n",
              "        vertical-align: top;\n",
              "    }\n",
              "\n",
              "    .dataframe thead th {\n",
              "        text-align: right;\n",
              "    }\n",
              "</style>\n",
              "<table border=\"1\" class=\"dataframe\">\n",
              "  <thead>\n",
              "    <tr style=\"text-align: right;\">\n",
              "      <th></th>\n",
              "      <th>count</th>\n",
              "      <th>mean</th>\n",
              "      <th>std</th>\n",
              "      <th>min</th>\n",
              "      <th>25%</th>\n",
              "      <th>50%</th>\n",
              "      <th>75%</th>\n",
              "      <th>max</th>\n",
              "    </tr>\n",
              "  </thead>\n",
              "  <tbody>\n",
              "    <tr>\n",
              "      <th>Lifetime Post Consumers</th>\n",
              "      <td>299.0</td>\n",
              "      <td>822.190635</td>\n",
              "      <td>1006.404471</td>\n",
              "      <td>9.0</td>\n",
              "      <td>322.5</td>\n",
              "      <td>548.0</td>\n",
              "      <td>992.0</td>\n",
              "      <td>11328.0</td>\n",
              "    </tr>\n",
              "  </tbody>\n",
              "</table>\n",
              "</div>\n",
              "    <div class=\"colab-df-buttons\">\n",
              "\n",
              "  <div class=\"colab-df-container\">\n",
              "    <button class=\"colab-df-convert\" onclick=\"convertToInteractive('df-b9468209-0e8c-44b5-b5c7-1fd722f96ce6')\"\n",
              "            title=\"Convert this dataframe to an interactive table.\"\n",
              "            style=\"display:none;\">\n",
              "\n",
              "  <svg xmlns=\"http://www.w3.org/2000/svg\" height=\"24px\" viewBox=\"0 -960 960 960\">\n",
              "    <path d=\"M120-120v-720h720v720H120Zm60-500h600v-160H180v160Zm220 220h160v-160H400v160Zm0 220h160v-160H400v160ZM180-400h160v-160H180v160Zm440 0h160v-160H620v160ZM180-180h160v-160H180v160Zm440 0h160v-160H620v160Z\"/>\n",
              "  </svg>\n",
              "    </button>\n",
              "\n",
              "  <style>\n",
              "    .colab-df-container {\n",
              "      display:flex;\n",
              "      gap: 12px;\n",
              "    }\n",
              "\n",
              "    .colab-df-convert {\n",
              "      background-color: #E8F0FE;\n",
              "      border: none;\n",
              "      border-radius: 50%;\n",
              "      cursor: pointer;\n",
              "      display: none;\n",
              "      fill: #1967D2;\n",
              "      height: 32px;\n",
              "      padding: 0 0 0 0;\n",
              "      width: 32px;\n",
              "    }\n",
              "\n",
              "    .colab-df-convert:hover {\n",
              "      background-color: #E2EBFA;\n",
              "      box-shadow: 0px 1px 2px rgba(60, 64, 67, 0.3), 0px 1px 3px 1px rgba(60, 64, 67, 0.15);\n",
              "      fill: #174EA6;\n",
              "    }\n",
              "\n",
              "    .colab-df-buttons div {\n",
              "      margin-bottom: 4px;\n",
              "    }\n",
              "\n",
              "    [theme=dark] .colab-df-convert {\n",
              "      background-color: #3B4455;\n",
              "      fill: #D2E3FC;\n",
              "    }\n",
              "\n",
              "    [theme=dark] .colab-df-convert:hover {\n",
              "      background-color: #434B5C;\n",
              "      box-shadow: 0px 1px 3px 1px rgba(0, 0, 0, 0.15);\n",
              "      filter: drop-shadow(0px 1px 2px rgba(0, 0, 0, 0.3));\n",
              "      fill: #FFFFFF;\n",
              "    }\n",
              "  </style>\n",
              "\n",
              "    <script>\n",
              "      const buttonEl =\n",
              "        document.querySelector('#df-b9468209-0e8c-44b5-b5c7-1fd722f96ce6 button.colab-df-convert');\n",
              "      buttonEl.style.display =\n",
              "        google.colab.kernel.accessAllowed ? 'block' : 'none';\n",
              "\n",
              "      async function convertToInteractive(key) {\n",
              "        const element = document.querySelector('#df-b9468209-0e8c-44b5-b5c7-1fd722f96ce6');\n",
              "        const dataTable =\n",
              "          await google.colab.kernel.invokeFunction('convertToInteractive',\n",
              "                                                    [key], {});\n",
              "        if (!dataTable) return;\n",
              "\n",
              "        const docLinkHtml = 'Like what you see? Visit the ' +\n",
              "          '<a target=\"_blank\" href=https://colab.research.google.com/notebooks/data_table.ipynb>data table notebook</a>'\n",
              "          + ' to learn more about interactive tables.';\n",
              "        element.innerHTML = '';\n",
              "        dataTable['output_type'] = 'display_data';\n",
              "        await google.colab.output.renderOutput(dataTable, element);\n",
              "        const docLink = document.createElement('div');\n",
              "        docLink.innerHTML = docLinkHtml;\n",
              "        element.appendChild(docLink);\n",
              "      }\n",
              "    </script>\n",
              "  </div>\n",
              "\n",
              "\n",
              "    </div>\n",
              "  </div>\n"
            ],
            "application/vnd.google.colaboratory.intrinsic+json": {
              "type": "dataframe",
              "summary": "{\n  \"name\": \"ytrain\",\n  \"rows\": 1,\n  \"fields\": [\n    {\n      \"column\": \"count\",\n      \"properties\": {\n        \"dtype\": \"number\",\n        \"std\": null,\n        \"min\": 299.0,\n        \"max\": 299.0,\n        \"num_unique_values\": 1,\n        \"samples\": [\n          299.0\n        ],\n        \"semantic_type\": \"\",\n        \"description\": \"\"\n      }\n    },\n    {\n      \"column\": \"mean\",\n      \"properties\": {\n        \"dtype\": \"number\",\n        \"std\": null,\n        \"min\": 822.190635451505,\n        \"max\": 822.190635451505,\n        \"num_unique_values\": 1,\n        \"samples\": [\n          822.190635451505\n        ],\n        \"semantic_type\": \"\",\n        \"description\": \"\"\n      }\n    },\n    {\n      \"column\": \"std\",\n      \"properties\": {\n        \"dtype\": \"number\",\n        \"std\": null,\n        \"min\": 1006.4044714628743,\n        \"max\": 1006.4044714628743,\n        \"num_unique_values\": 1,\n        \"samples\": [\n          1006.4044714628743\n        ],\n        \"semantic_type\": \"\",\n        \"description\": \"\"\n      }\n    },\n    {\n      \"column\": \"min\",\n      \"properties\": {\n        \"dtype\": \"number\",\n        \"std\": null,\n        \"min\": 9.0,\n        \"max\": 9.0,\n        \"num_unique_values\": 1,\n        \"samples\": [\n          9.0\n        ],\n        \"semantic_type\": \"\",\n        \"description\": \"\"\n      }\n    },\n    {\n      \"column\": \"25%\",\n      \"properties\": {\n        \"dtype\": \"number\",\n        \"std\": null,\n        \"min\": 322.5,\n        \"max\": 322.5,\n        \"num_unique_values\": 1,\n        \"samples\": [\n          322.5\n        ],\n        \"semantic_type\": \"\",\n        \"description\": \"\"\n      }\n    },\n    {\n      \"column\": \"50%\",\n      \"properties\": {\n        \"dtype\": \"number\",\n        \"std\": null,\n        \"min\": 548.0,\n        \"max\": 548.0,\n        \"num_unique_values\": 1,\n        \"samples\": [\n          548.0\n        ],\n        \"semantic_type\": \"\",\n        \"description\": \"\"\n      }\n    },\n    {\n      \"column\": \"75%\",\n      \"properties\": {\n        \"dtype\": \"number\",\n        \"std\": null,\n        \"min\": 992.0,\n        \"max\": 992.0,\n        \"num_unique_values\": 1,\n        \"samples\": [\n          992.0\n        ],\n        \"semantic_type\": \"\",\n        \"description\": \"\"\n      }\n    },\n    {\n      \"column\": \"max\",\n      \"properties\": {\n        \"dtype\": \"number\",\n        \"std\": null,\n        \"min\": 11328.0,\n        \"max\": 11328.0,\n        \"num_unique_values\": 1,\n        \"samples\": [\n          11328.0\n        ],\n        \"semantic_type\": \"\",\n        \"description\": \"\"\n      }\n    }\n  ]\n}"
            }
          },
          "metadata": {},
          "execution_count": 5
        }
      ],
      "source": [
        "ytrain.describe().T   # lo mismo para la variable de salida"
      ]
    },
    {
      "cell_type": "code",
      "execution_count": null,
      "metadata": {
        "colab": {
          "base_uri": "https://localhost:8080/",
          "height": 452
        },
        "id": "dl3MRrQ9cEeb",
        "outputId": "280f4b9d-1aed-49f2-917d-4e26f9627ed5"
      },
      "outputs": [
        {
          "output_type": "display_data",
          "data": {
            "text/plain": [
              "<Figure size 640x480 with 1 Axes>"
            ],
            "image/png": "[encoded data removed]"
          },
          "metadata": {}
        }
      ],
      "source": [
        "ytrainlog = np.log(ytrain)   # Recordemos que nuestra variable de salida en un problema\n",
        "ytrainlog.hist();            # de Regresión se recomienda que esté aproximadamente\n",
        "                             # acampanada, por lo que la ajustaremos con el logaritmo\n",
        "                             # natural como primera aproximación."
      ]
    },
    {
      "cell_type": "code",
      "execution_count": null,
      "metadata": {
        "id": "R9AEIQJTiEVE"
      },
      "outputs": [],
      "source": [
        "# y procedemos de la misma manera con Val y test:\n",
        "yvallog = np.log(yval)\n",
        "ytestlog = np.log(ytest)"
      ]
    },
    {
      "cell_type": "code",
      "execution_count": null,
      "metadata": {
        "id": "XmT5gvLjpu4J"
      },
      "outputs": [],
      "source": [
        "# Apliaremos lo mínimo de transformaciones, en particular para datos perdidos:\n",
        "# Como solo tenemos una numérica, la podemos dejar sin escalar:\n",
        "num_pipe = Pipeline(steps = [('numImp', SimpleImputer(strategy='median')),\n",
        "                             ])\n",
        "num_pipe_nombres = [0]   # ['Page total likes']\n",
        "\n",
        "\n",
        "# Las ordinales las identificamos como tales:\n",
        "ord_pipe = Pipeline(steps =  [('OrdImp', SimpleImputer(strategy='most_frequent')),\n",
        "                              ('Ordfun', OrdinalEncoder(handle_unknown='use_encoded_value', unknown_value=-1 ))\n",
        "                              ])\n",
        "ord_pipe_nombres = [3,4,5]   # ['Post Month', 'Post Weekday', 'Post Hour']\n",
        "\n",
        "# Las nominales las transformamos con One-Hot-Encoder:\n",
        "nom_pipe = Pipeline(steps = [('ohe', OneHotEncoder(drop='first',\n",
        "                                                   handle_unknown='ignore',\n",
        "                                                   ))])\n",
        "nom_pipe_nombres = [1,2,6]   # ['Type', 'Category', 'Paid']\n",
        "\n",
        "\n",
        "# Conjuntamos las transformaciones que aplicaremos:\n",
        "columnasTransformer = ColumnTransformer(transformers = [('numpow', num_pipe, num_pipe_nombres),\n",
        "                                                        ('catOrd', ord_pipe, ord_pipe_nombres),\n",
        "                                                        ('catNom', nom_pipe, nom_pipe_nombres)\n",
        "                                                        ],\n",
        "                                        remainder='passthrough')\n",
        "\n",
        "\n",
        "# Ajustamos en Train y transformamos en Val y Test:\n",
        "XtrainFit = columnasTransformer.fit(Xtrain)\n",
        "XtrainT = XtrainFit.transform(Xtrain)\n",
        "XvalT  =  XtrainFit.transform(Xval)\n",
        "XtestT  =  XtrainFit.transform(Xtest)"
      ]
    },
    {
      "cell_type": "code",
      "execution_count": null,
      "metadata": {
        "colab": {
          "base_uri": "https://localhost:8080/"
        },
        "id": "yPTioK_D2z9p",
        "outputId": "501a8cba-f427-4c19-a513-4ec24440697b"
      },
      "outputs": [
        {
          "output_type": "stream",
          "name": "stdout",
          "text": [
            "Desv-Est y-original: 1004.720\n",
            "Desv-Est y-logaritmo: 0.892\n"
          ]
        }
      ],
      "source": [
        "# El valor de RMSE-Root-Mean-Square-Error, se utiliza para medir el desempeño\n",
        "# mínimo que debiera obtener un modelo de regresión, es decir, este valor\n",
        "# se toma usualmente como el valor del modelo subentrenado y se compara generalmente\n",
        "# con el valor de la desviación estándar de la variable de salida, ya sea que la\n",
        "# estés tomando de manera original o con los datos transformados.\n",
        "# Veamos el valor de ambas:\n",
        "\n",
        "print('Desv-Est y-original: %.3f' % ytrain.values.std())\n",
        "print('Desv-Est y-logaritmo: %.3f' % ytrainlog.values.std())"
      ]
    },
    {
      "cell_type": "markdown",
      "metadata": {
        "id": "a4Ka79ZTyM0_"
      },
      "source": [
        "## **Ejercicio 3**\n"
      ]
    },
    {
      "cell_type": "code",
      "execution_count": null,
      "metadata": {
        "colab": {
          "base_uri": "https://localhost:8080/",
          "height": 527
        },
        "id": "oXpqwlS6lnSS",
        "outputId": "898200a2-7100-40da-c9c9-11c00b499cc8"
      },
      "outputs": [
        {
          "output_type": "stream",
          "name": "stdout",
          "text": [
            "Fitting 5 folds for each of 100 candidates, totalling 500 fits\n",
            "Best parameters found:  {'m__n_estimators': 500, 'm__min_samples_split': 10, 'm__min_samples_leaf': 1, 'm__max_features': 'sqrt', 'm__max_depth': 10, 'm__bootstrap': True}\n"
          ]
        },
        {
          "output_type": "display_data",
          "data": {
            "text/plain": [
              "<Figure size 640x480 with 1 Axes>"
            ],
            "image/png": "[encoded data removed]"
          },
          "metadata": {}
        }
      ],
      "source": [
        "# Al ejecutar las siguientes líneas de código determina si el modelo de\n",
        "# Bosque Aleatorio con sus valores de hiperparámetros predeterminadas está\n",
        "# Subentrenado o Sobreentrenado. De ser así, busca los valores de sus\n",
        "# hiperparámetros que consideres más adecuados para que ya no\n",
        "# esté sub-o-sobreentrenado:\n",
        "\n",
        "\n",
        "# ++++++++++++++ Incluye aquí tus ajustes ++++++++++++++++++++++++++++++\n",
        "param_distributions = {\n",
        "    'm__n_estimators': [100, 200, 300, 400, 500],\n",
        "    'm__max_features': ['auto', 'sqrt', 'log2'],\n",
        "    'm__max_depth': [10, 20, 30, 40, 50, None],\n",
        "    'm__min_samples_split': [2, 5, 10],\n",
        "    'm__min_samples_leaf': [1, 2, 4],\n",
        "    'm__bootstrap': [True, False]\n",
        "}\n",
        "elmodelo_RF = RandomForestRegressor()\n",
        "\n",
        "random_search = RandomizedSearchCV(estimator=Pipeline(steps=[('ct', columnasTransformer), ('m', elmodelo_RF)]),\n",
        "                                   param_distributions=param_distributions,\n",
        "                                   n_iter=100,\n",
        "                                   cv=5,\n",
        "                                   verbose=2,\n",
        "                                   random_state=42,\n",
        "                                   n_jobs=-1,\n",
        "                                   scoring='neg_mean_squared_error')\n",
        "\n",
        "random_search.fit(Xtrain, np.ravel(ytrainlog))\n",
        "\n",
        "print(\"Best parameters found: \", random_search.best_params_)\n",
        "\n",
        "elmodelo_RF = random_search.best_estimator_.named_steps['m']\n",
        "\n",
        "# +++++++++++++ Termina sección de realizar ajustes +++++++++++++++++++++\n",
        "\n",
        "mipipe = Pipeline(steps=[('ct',columnasTransformer),('m', elmodelo_RF)])\n",
        "\n",
        "train_sizes, train_scores, val_scores = learning_curve(estimator=mipipe,\n",
        "                                                        X=XtrainT,\n",
        "                                                        y=np.ravel(ytrainlog),\n",
        "                                                        cv=5,\n",
        "                                                        train_sizes= np.linspace(0.1, 1.0, 10),\n",
        "                                                        scoring= 'neg_mean_squared_error',  # error MSE\n",
        "                                                        n_jobs=-1)\n",
        "\n",
        "\n",
        "\n",
        "# Calculamos los promedios y desviación estándar de entrenamiento para RMSE,\n",
        "# como tenemos los de MSE, debemos obtener su raíz cuadrada. El negativo es porque\n",
        "# sklearn nos devuelve en realidad el negativo del Error Cuadrático Medio MSE:\n",
        "\n",
        "rmse_train_scores = np.sqrt(-train_scores)\n",
        "rmse_val_scores = np.sqrt(-val_scores)\n",
        "\n",
        "train_mean = np.mean(rmse_train_scores, axis=1)\n",
        "train_std = np.std(rmse_train_scores, axis=1)\n",
        "val_mean = np.mean(rmse_val_scores, axis=1)\n",
        "val_std = np.std(rmse_val_scores, axis=1)\n",
        "\n",
        "\n",
        "plt.plot(train_sizes, train_mean, color='blue', marker='o', markersize=5, label='Training Accuracy')\n",
        "plt.fill_between(train_sizes, train_mean + train_std, train_mean - train_std, alpha=0.15, color='blue')\n",
        "\n",
        "plt.plot(train_sizes, val_mean, color='green', marker='+', markersize=5, linestyle='--', label='Validation Accuracy')\n",
        "plt.fill_between(train_sizes, val_mean + val_std, val_mean - val_std, alpha=0.15, color='green')\n",
        "\n",
        "plt.title('Learning Curve')\n",
        "plt.xlabel('Training Data Size')\n",
        "plt.ylabel('Model accuracy')\n",
        "plt.grid()\n",
        "plt.legend(loc='lower right')\n",
        "plt.show()\n"
      ]
    },
    {
      "cell_type": "code",
      "execution_count": null,
      "metadata": {
        "colab": {
          "base_uri": "https://localhost:8080/"
        },
        "id": "5yEGf3-ft3cO",
        "outputId": "fdf70f21-4730-4a67-9415-730dcdb665a0"
      },
      "outputs": [
        {
          "output_type": "stream",
          "name": "stdout",
          "text": [
            "Error RSME(Test) de Random Forest: 0.689\n"
          ]
        }
      ],
      "source": [
        "# Una vez que verifiquemos que no está sobreentrenado o subentrenado el modelo,\n",
        "# podemos calcular el RMSE del mejor ajuste con los datos de Prueba.\n",
        "# Incluye los valores de los nejores hiperparámetros encontrados del RandomForest:\n",
        "\n",
        "# ++++++++++++++ Incluye aquí tus ajustes ++++++++++++++++++++++++++++++\n",
        "best_params = {\n",
        "    'n_estimators': 100,\n",
        "    'min_samples_split': 10,\n",
        "    'min_samples_leaf': 2,\n",
        "    'max_features': 'sqrt',\n",
        "    'max_depth': 50,\n",
        "    'bootstrap': True\n",
        "}\n",
        "\n",
        "elmodelo_RF = RandomForestRegressor(**best_params)\n",
        "# +++++++++++++ Termina sección de realizar ajustes +++++++++++++++++++++\n",
        "\n",
        "mipipe = Pipeline(steps=[('ct',columnasTransformer),('m', elmodelo_RF)])\n",
        "mipipe.fit(Xtrain, np.ravel(ytrainlog))\n",
        "yhattest_RF = mipipe.predict(Xtest)\n",
        "\n",
        "print('Error RSME(Test) de Random Forest: %.3f' % np.sqrt(mean_squared_error(np.ravel(ytestlog), yhattest_RF)))"
      ]
    },
    {
      "cell_type": "markdown",
      "metadata": {
        "id": "HKwEq8z-zS7G"
      },
      "source": [
        "## **Ejercicio 4**"
      ]
    },
    {
      "cell_type": "markdown",
      "metadata": {
        "id": "hLd2iTBMzZ93"
      },
      "source": [
        "### **Repite el mismo proceso del Ejercicio 3 anterior para obtener los hiperparámetros que nos lleven a casos de modelos no subentrenados o sobreentrenaos, en cada uno de los siguientes casos:**\n",
        "\n",
        "*   **a. Extreme Gradient Boost XGBoost**\n",
        "*   **b. Máquina de Vector Soporte SVM**\n",
        "*   **c. Red Neuronal Perceptrón Multicapa MLP**"
      ]
    },
    {
      "cell_type": "code",
      "source": [
        "def plot_learning_curve(estimator, title, X, y, cv=None, n_jobs=None, train_sizes=np.linspace(.1, 1.0, 5)):\n",
        "    plt.figure()\n",
        "    plt.title(title)\n",
        "    plt.xlabel(\"Training examples\")\n",
        "    plt.ylabel(\"Score\")\n",
        "\n",
        "    train_sizes, train_scores, test_scores = learning_curve(estimator, X, y, cv=cv, n_jobs=n_jobs, train_sizes=train_sizes, scoring='neg_mean_squared_error')\n",
        "    train_scores_mean = -train_scores.mean(axis=1)\n",
        "    train_scores_std = train_scores.std(axis=1)\n",
        "    test_scores_mean = -test_scores.mean(axis=1)\n",
        "    test_scores_std = test_scores.std(axis=1)\n",
        "\n",
        "    plt.grid()\n",
        "\n",
        "    plt.fill_between(train_sizes, train_scores_mean - train_scores_std, train_scores_mean + train_scores_std, alpha=0.1, color=\"r\")\n",
        "    plt.fill_between(train_sizes, test_scores_mean - test_scores_std, test_scores_mean + test_scores_std, alpha=0.1, color=\"g\")\n",
        "    plt.plot(train_sizes, train_scores_mean, 'o-', color=\"r\", label=\"Training score\")\n",
        "    plt.plot(train_sizes, test_scores_mean, 'o-', color=\"g\", label=\"Cross-validation score\")\n",
        "\n",
        "    plt.legend(loc=\"best\")\n",
        "    return plt"
      ],
      "metadata": {
        "id": "xqNoWL8_ANmV"
      },
      "execution_count": null,
      "outputs": []
    },
    {
      "cell_type": "code",
      "execution_count": null,
      "metadata": {
        "colab": {
          "base_uri": "https://localhost:8080/"
        },
        "id": "OBz0q00NlHJ5",
        "outputId": "821323f0-ac6d-440c-b717-6582000d0b30"
      },
      "outputs": [
        {
          "output_type": "stream",
          "name": "stdout",
          "text": [
            "Best parameters found for XGBoost: {'gamma': 0.1, 'learning_rate': 0.01, 'max_depth': 3, 'min_child_weight': 5, 'n_estimators': 300}\n"
          ]
        }
      ],
      "source": [
        "from xgboost import XGBRegressor\n",
        "from sklearn.model_selection import GridSearchCV\n",
        "\n",
        "#modelo XGBoost\n",
        "elmodelo_XGB = XGBRegressor()\n",
        "\n",
        "#hiperparámetros a buscar\n",
        "param_grid_XGB = {\n",
        "    'n_estimators': [100, 200, 300],\n",
        "    'learning_rate': [0.01, 0.1, 0.3],\n",
        "    'max_depth': [3, 5, 7],\n",
        "    'min_child_weight': [1, 3, 5],\n",
        "    'gamma': [0, 0.1, 0.3]\n",
        "}\n",
        "\n",
        "#realiza la búsqueda de hiperparámetros con validación cruzada\n",
        "grid_search_XGB = GridSearchCV(estimator=elmodelo_XGB, param_grid=param_grid_XGB, cv=5, scoring='neg_mean_squared_error')\n",
        "grid_search_XGB.fit(Xtrain, np.ravel(ytrainlog))\n",
        "\n",
        "#obtiene los mejores hiperparámetros\n",
        "best_params_XGB = grid_search_XGB.best_params_\n",
        "print(\"Best parameters found for XGBoost:\", best_params_XGB)"
      ]
    },
    {
      "cell_type": "code",
      "execution_count": null,
      "metadata": {
        "colab": {
          "base_uri": "https://localhost:8080/",
          "height": 489
        },
        "id": "mMQeqe_ol-Po",
        "outputId": "65b74983-32f3-45db-8334-0a26cf739c27"
      },
      "outputs": [
        {
          "output_type": "display_data",
          "data": {
            "text/plain": [
              "<Figure size 640x480 with 1 Axes>"
            ],
            "image/png": "[encoded data removed]"
          },
          "metadata": {}
        },
        {
          "output_type": "stream",
          "name": "stdout",
          "text": [
            "Error RSME(Test) de XGBoost: 0.688\n"
          ]
        }
      ],
      "source": [
        "# XGBoost\n",
        "elmodelo_XGB = XGBRegressor(**best_params_XGB)\n",
        "mipipe_XGB = Pipeline(steps=[('ct', columnasTransformer), ('m', elmodelo_XGB)])\n",
        "mipipe_XGB.fit(Xtrain, np.ravel(ytrainlog))\n",
        "#curva\n",
        "plot_learning_curve(mipipe_XGB, \"Learning Curve (XGBoost)\", Xtrain, np.ravel(ytrainlog), cv=5)\n",
        "plt.show()\n",
        "yhattest_XGB = mipipe_XGB.predict(Xtest)\n",
        "print('Error RSME(Test) de XGBoost: %.3f' % np.sqrt(mean_squared_error(np.ravel(ytestlog), yhattest_XGB)))"
      ]
    },
    {
      "cell_type": "code",
      "execution_count": null,
      "metadata": {
        "colab": {
          "base_uri": "https://localhost:8080/"
        },
        "id": "Alt60b4Up0c-",
        "outputId": "d5745fb2-797e-440c-f574-8ab01bb40bb7"
      },
      "outputs": [
        {
          "output_type": "stream",
          "name": "stdout",
          "text": [
            "Best parameters found for SVM: {'C': 100, 'gamma': 'scale', 'kernel': 'rbf'}\n"
          ]
        }
      ],
      "source": [
        "from sklearn.svm import SVR\n",
        "\n",
        "#el modelo SVM\n",
        "elmodelo_SVM = SVR()\n",
        "\n",
        "#hiperparámetros a buscar\n",
        "param_grid_SVM = {\n",
        "    'kernel': ['rbf','sigmoid'],\n",
        "    'gamma': ['scale'],\n",
        "    'C': [0.1, 1, 10, 100],  # Reducir el rango de valores para C\n",
        "}\n",
        "\n",
        "#realiza la búsqueda de hiperparámetros con validación cruzada\n",
        "grid_search_SVM = GridSearchCV(estimator=elmodelo_SVM, param_grid=param_grid_SVM, cv=5, scoring='neg_mean_squared_error')\n",
        "grid_search_SVM.fit(Xtrain, np.ravel(ytrainlog))\n",
        "\n",
        "#obtiene los mejores hiperparámetros\n",
        "best_params_SVM = grid_search_SVM.best_params_\n",
        "print(\"Best parameters found for SVM:\", best_params_SVM)"
      ]
    },
    {
      "cell_type": "code",
      "execution_count": null,
      "metadata": {
        "colab": {
          "base_uri": "https://localhost:8080/",
          "height": 489
        },
        "id": "6qL58RVZsDx7",
        "outputId": "439c1bb4-754f-4242-e5d5-6b8d38167702"
      },
      "outputs": [
        {
          "output_type": "display_data",
          "data": {
            "text/plain": [
              "<Figure size 640x480 with 1 Axes>"
            ],
            "image/png": "[encoded data removed]"
          },
          "metadata": {}
        },
        {
          "output_type": "stream",
          "name": "stdout",
          "text": [
            "Error RSME(Test) de SVM: 0.897\n"
          ]
        }
      ],
      "source": [
        "#SVM\n",
        "elmodelo_SVM = SVR(**best_params_SVM)\n",
        "mipipe_SVM = Pipeline(steps=[('ct', columnasTransformer), ('m', elmodelo_SVM)])\n",
        "mipipe_SVM.fit(Xtrain, np.ravel(ytrainlog))\n",
        "#curva\n",
        "plot_learning_curve(mipipe_SVM, \"Learning Curve (SVM)\", Xtrain, np.ravel(ytrainlog), cv=5)\n",
        "plt.show()\n",
        "yhattest_SVM = mipipe_SVM.predict(Xtest)\n",
        "print('Error RSME(Test) de SVM: %.3f' % np.sqrt(mean_squared_error(np.ravel(ytestlog), yhattest_SVM)))\n"
      ]
    },
    {
      "cell_type": "code",
      "execution_count": null,
      "metadata": {
        "colab": {
          "base_uri": "https://localhost:8080/"
        },
        "id": "NO6xPir0tZ5m",
        "outputId": "f3805912-568b-43aa-b2fd-d59bfca77d78"
      },
      "outputs": [
        {
          "output_type": "stream",
          "name": "stdout",
          "text": [
            "Best parameters found for MLP: {'activation': 'tanh', 'alpha': 0.0001, 'hidden_layer_sizes': (50, 100, 50), 'learning_rate': 'constant', 'solver': 'sgd'}\n"
          ]
        }
      ],
      "source": [
        "from sklearn.neural_network import MLPRegressor\n",
        "\n",
        "# Define el modelo MLP\n",
        "elmodelo_MLP = MLPRegressor()\n",
        "\n",
        "# Define la grilla de hiperparámetros a buscar\n",
        "param_grid_MLP = {\n",
        "    'hidden_layer_sizes': [(50,50,50), (50,100,50), (100,)],\n",
        "    'activation': ['tanh', 'relu'],\n",
        "    'solver': ['sgd', 'adam'],\n",
        "    'alpha': [0.0001, 0.05],\n",
        "    'learning_rate': ['constant','adaptive']\n",
        "}\n",
        "\n",
        "# Realiza la búsqueda de hiperparámetros con validación cruzada\n",
        "grid_search_MLP = GridSearchCV(estimator=elmodelo_MLP, param_grid=param_grid_MLP, cv=5, scoring='neg_mean_squared_error')\n",
        "grid_search_MLP.fit(Xtrain, np.ravel(ytrainlog))\n",
        "\n",
        "# Obtiene los mejores hiperparámetros\n",
        "best_params_MLP = grid_search_MLP.best_params_\n",
        "print(\"Best parameters found for MLP:\", best_params_MLP)"
      ]
    },
    {
      "cell_type": "code",
      "execution_count": null,
      "metadata": {
        "colab": {
          "base_uri": "https://localhost:8080/",
          "height": 489
        },
        "id": "EExim4DyuDnn",
        "outputId": "df210fac-13e6-4255-a74a-024738e1e232"
      },
      "outputs": [
        {
          "output_type": "display_data",
          "data": {
            "text/plain": [
              "<Figure size 640x480 with 1 Axes>"
            ],
            "image/png": "[encoded data removed]"
          },
          "metadata": {}
        },
        {
          "output_type": "stream",
          "name": "stdout",
          "text": [
            "Error RSME(Test) de MLP: 0.889\n"
          ]
        }
      ],
      "source": [
        "# MLP\n",
        "elmodelo_MLP = MLPRegressor(**best_params_MLP)\n",
        "mipipe_MLP = Pipeline(steps=[('ct', columnasTransformer), ('m', elmodelo_MLP)])\n",
        "mipipe_MLP.fit(Xtrain, np.ravel(ytrainlog))\n",
        "#curva\n",
        "plot_learning_curve(mipipe_MLP, \"Learning Curve (MLP)\", Xtrain, np.ravel(ytrainlog), cv=5)\n",
        "plt.show()\n",
        "yhattest_MLP = mipipe_MLP.predict(Xtest)\n",
        "print('Error RSME(Test) de MLP: %.3f' % np.sqrt(mean_squared_error(np.ravel(ytestlog), yhattest_MLP)))"
      ]
    },
    {
      "cell_type": "markdown",
      "metadata": {
        "id": "_wWlujaN0Zu-"
      },
      "source": [
        "# **Ejercicio 5**"
      ]
    },
    {
      "cell_type": "markdown",
      "metadata": {
        "id": "A01wHjjM0eNf"
      },
      "source": [
        "### **Incluye tus conclusiones finales de la Actividad.**\n",
        "### **En particular indica cuál consideras que fue el mejor modelo obtenido.**"
      ]
    },
    {
      "cell_type": "markdown",
      "metadata": {
        "id": "aeZrOQkU0x9X"
      },
      "source": [
        "El RMSE es una métrica que mide la cantidad de errores que hay entres  dos conjuntos de datos. Nos permitió comparar el mejor resultado obtenido entre los 3 modelos sugeridos.\n",
        "\n",
        "MLP se entrena de manera iterativa, funciona de manera optima en matices densas y dispersas de valores flotantes sin embargo fue uno de los modelos con un puntaje mayor en el error cuadático\n",
        "con un puntaje de 0.88\n",
        "\n",
        "SVM es un algortimo de aprendizaje optimo para clasificación y regresión en aplicaciones médicas como el reconocimiento de imágenes, sin embargo para el caso de Facebook no fue optimo este modelo obtuvo el puntaje más alto en el RMSE con 0.89\n",
        "\n",
        "El mejor modelo fue el XGBoost ya que al cálcular el error RSME fue el que obtuvo el puntaje más bajo con un 0.68\n",
        "\n",
        "XGBoost mejora el rendimiento en la gran mayoría de los algoritmos. El XGBoost es recomendable utilizarlo para datasets grandes con más de 1000 observaciones como en el caso del ánalisis de publicaciones de Facebook."
      ]
    }
  ],
  "metadata": {
    "colab": {
      "provenance": []
    },
    "kernelspec": {
      "display_name": "Python 3",
      "name": "python3"
    },
    "language_info": {
      "name": "python"
    }
  },
  "nbformat": 4,
  "nbformat_minor": 0
}